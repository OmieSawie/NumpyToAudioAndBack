{
 "cells": [
  {
   "cell_type": "code",
   "execution_count": 1,
   "id": "b0b0637d-1c70-4802-a4fa-c0c3b8f83d7d",
   "metadata": {
    "tags": []
   },
   "outputs": [],
   "source": [
    "from PIL import Image\n",
    "\n",
    "import numpy as np\n",
    "import csv\n",
    "from scipy.io.wavfile import write"
   ]
  },
  {
   "cell_type": "code",
   "execution_count": 2,
   "id": "8bbd2f8f-879f-4463-8e9f-01750b3abe7d",
   "metadata": {
    "tags": []
   },
   "outputs": [
    {
     "name": "stdout",
     "output_type": "stream",
     "text": [
      "JPEG\n",
      "(997, 997)\n",
      "L\n"
     ]
    },
    {
     "data": {
      "text/plain": [
       "array([[16, 16, 16, ..., 16, 16, 16],\n",
       "       [16, 16, 16, ..., 16, 16, 16],\n",
       "       [16, 16, 16, ..., 16, 16, 16],\n",
       "       ...,\n",
       "       [16, 16, 16, ..., 16, 16, 16],\n",
       "       [16, 16, 16, ..., 16, 16, 16],\n",
       "       [16, 16, 16, ..., 16, 16, 16]], dtype=uint8)"
      ]
     },
     "execution_count": 2,
     "metadata": {},
     "output_type": "execute_result"
    }
   ],
   "source": [
    "bwImage = Image.open('BandW_CancerImg.jpg')\n",
    "\n",
    "print(bwImage.format)\n",
    "print(bwImage.size)\n",
    "print(bwImage.mode)\n",
    "npBWImage = np.array(bwImage)\n",
    "npBWImage.shape\n",
    "npBWImage"
   ]
  },
  {
   "cell_type": "code",
   "execution_count": 3,
   "id": "b53dac37-8d32-4598-97e3-d261e9e64134",
   "metadata": {
    "tags": []
   },
   "outputs": [],
   "source": [
    "RATE = 44100\n",
    "EXTEND = 1\n",
    "SCALE = 255"
   ]
  },
  {
   "cell_type": "code",
   "execution_count": 4,
   "id": "8c36d976-476f-4d34-8139-5934b3f61403",
   "metadata": {
    "tags": []
   },
   "outputs": [
    {
     "data": {
      "text/plain": [
       "255.0"
      ]
     },
     "execution_count": 4,
     "metadata": {},
     "output_type": "execute_result"
    }
   ],
   "source": [
    "npFinalOutput = np.zeros([997*997*EXTEND])\n",
    "counter = 0\n",
    "for i in npBWImage:\n",
    "    for j in i:\n",
    "        for k in range(EXTEND):\n",
    "            npFinalOutput[counter] =  j\n",
    "            counter = counter + 1\n",
    "\n",
    "# np.argmax(npFinalOutput)\n",
    "npFinalOutput[172165]"
   ]
  },
  {
   "cell_type": "code",
   "execution_count": 5,
   "id": "6a345b97-0a72-4492-a517-354aa88c4430",
   "metadata": {
    "tags": []
   },
   "outputs": [
    {
     "data": {
      "text/plain": [
       "array([0.0627451, 0.0627451, 0.0627451, ..., 0.0627451, 0.0627451,\n",
       "       0.0627451], dtype=float32)"
      ]
     },
     "execution_count": 5,
     "metadata": {},
     "output_type": "execute_result"
    }
   ],
   "source": [
    "scaled = np.float32(npFinalOutput / SCALE)\n",
    "write('test.wav', RATE, scaled)\n",
    "scaled"
   ]
  },
  {
   "cell_type": "code",
   "execution_count": null,
   "id": "d632bc30-76bb-438c-8790-5868e3d97d96",
   "metadata": {},
   "outputs": [],
   "source": []
  }
 ],
 "metadata": {
  "kernelspec": {
   "display_name": "Python 3 (ipykernel)",
   "language": "python",
   "name": "python3"
  },
  "language_info": {
   "codemirror_mode": {
    "name": "ipython",
    "version": 3
   },
   "file_extension": ".py",
   "mimetype": "text/x-python",
   "name": "python",
   "nbconvert_exporter": "python",
   "pygments_lexer": "ipython3",
   "version": "3.10.10"
  }
 },
 "nbformat": 4,
 "nbformat_minor": 5
}
