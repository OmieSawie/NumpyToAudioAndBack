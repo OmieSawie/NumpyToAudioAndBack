{
 "cells": [
  {
   "cell_type": "code",
   "execution_count": 15,
   "id": "b0b0637d-1c70-4802-a4fa-c0c3b8f83d7d",
   "metadata": {
    "tags": []
   },
   "outputs": [],
   "source": [
    "import numpy as np\n",
    "import csv\n",
    "from scipy.io.wavfile import write"
   ]
  },
  {
   "cell_type": "code",
   "execution_count": 16,
   "id": "b53dac37-8d32-4598-97e3-d261e9e64134",
   "metadata": {
    "tags": []
   },
   "outputs": [],
   "source": [
    "RATE = 44100\n",
    "EXTEND = 100\n",
    "SCALE = 12"
   ]
  },
  {
   "cell_type": "code",
   "execution_count": 17,
   "id": "777c2a5c-7546-48e1-8502-6dcae5c641d6",
   "metadata": {
    "tags": []
   },
   "outputs": [],
   "source": [
    "# with open(\"Naks_Tree.csv\", 'r') as x:\n",
    "#     testArr = list(csv.reader(x, delimiter=\",\"))\n",
    "\n",
    "npTestArr = np.genfromtxt(\"./Naks_Tree.csv\", delimiter=',') \n",
    "npTestArr = np.delete(npTestArr,0,0)"
   ]
  },
  {
   "cell_type": "code",
   "execution_count": 18,
   "id": "d20cc067-a468-4b5e-a732-96b12a4f1edc",
   "metadata": {
    "tags": []
   },
   "outputs": [
    {
     "data": {
      "text/plain": [
       "(59, 29)"
      ]
     },
     "execution_count": 18,
     "metadata": {},
     "output_type": "execute_result"
    }
   ],
   "source": [
    "npTestArr.shape"
   ]
  },
  {
   "cell_type": "code",
   "execution_count": 26,
   "id": "378fde0c-7e07-42ed-a8e0-e0cd578153da",
   "metadata": {
    "tags": []
   },
   "outputs": [
    {
     "data": {
      "text/plain": [
       "1377"
      ]
     },
     "execution_count": 26,
     "metadata": {},
     "output_type": "execute_result"
    }
   ],
   "source": [
    "np.argmax(npTestArr)"
   ]
  },
  {
   "cell_type": "code",
   "execution_count": 20,
   "id": "8c36d976-476f-4d34-8139-5934b3f61403",
   "metadata": {
    "tags": []
   },
   "outputs": [
    {
     "data": {
      "text/plain": [
       "array([0.4, 0.4, 0.4, ..., 0.2, 0.2, 0.2])"
      ]
     },
     "execution_count": 20,
     "metadata": {},
     "output_type": "execute_result"
    }
   ],
   "source": [
    "npFinalOutput = np.zeros([59*29*EXTEND])\n",
    "counter = 0\n",
    "for i in npTestArr:\n",
    "    for j in i:\n",
    "        for k in range(EXTEND):\n",
    "            npFinalOutput[counter] =  j\n",
    "            counter = counter + 1\n",
    "\n",
    "\n",
    "npFinalOutput\n"
   ]
  },
  {
   "cell_type": "code",
   "execution_count": 21,
   "id": "ed72b4bc-912c-4d2f-8933-7dd3bc64c8e8",
   "metadata": {
    "tags": []
   },
   "outputs": [
    {
     "data": {
      "text/plain": [
       "137700"
      ]
     },
     "execution_count": 21,
     "metadata": {},
     "output_type": "execute_result"
    }
   ],
   "source": [
    "np.argmax(npFinalOutput)"
   ]
  },
  {
   "cell_type": "code",
   "execution_count": 11,
   "id": "6a345b97-0a72-4492-a517-354aa88c4430",
   "metadata": {
    "tags": []
   },
   "outputs": [
    {
     "data": {
      "text/plain": [
       "2.4"
      ]
     },
     "execution_count": 11,
     "metadata": {},
     "output_type": "execute_result"
    }
   ],
   "source": [
    "        \n",
    "scaled = np.float32(npFinalOutput / SCALE)\n",
    "write('test.wav', RATE, scaled)\n",
    "\n",
    "np.max(scaled)\n",
    "\n",
    "\n",
    "\n"
   ]
  },
  {
   "cell_type": "code",
   "execution_count": null,
   "id": "bbee3dc5-48f8-4aaf-b9db-1fe04a59eb9e",
   "metadata": {},
   "outputs": [],
   "source": []
  },
  {
   "cell_type": "code",
   "execution_count": null,
   "id": "81e030b0-52b0-4664-8af9-9c1c9e15b4e1",
   "metadata": {},
   "outputs": [],
   "source": []
  }
 ],
 "metadata": {
  "kernelspec": {
   "display_name": "Python 3 (ipykernel)",
   "language": "python",
   "name": "python3"
  },
  "language_info": {
   "codemirror_mode": {
    "name": "ipython",
    "version": 3
   },
   "file_extension": ".py",
   "mimetype": "text/x-python",
   "name": "python",
   "nbconvert_exporter": "python",
   "pygments_lexer": "ipython3",
   "version": "3.10.10"
  }
 },
 "nbformat": 4,
 "nbformat_minor": 5
}
