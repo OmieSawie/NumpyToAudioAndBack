{
 "cells": [
  {
   "cell_type": "code",
   "execution_count": 12,
   "id": "a91533cb-c550-44eb-a57b-eb69e0b2dcd2",
   "metadata": {
    "tags": []
   },
   "outputs": [
    {
     "ename": "NameError",
     "evalue": "name 'mgrayImage' is not defined",
     "output_type": "error",
     "traceback": [
      "\u001b[0;31m---------------------------------------------------------------------------\u001b[0m",
      "\u001b[0;31mNameError\u001b[0m                                 Traceback (most recent call last)",
      "Cell \u001b[0;32mIn[12], line 14\u001b[0m\n\u001b[1;32m     11\u001b[0m cv2\u001b[38;5;241m.\u001b[39mdestroyAllWindows()\n\u001b[1;32m     12\u001b[0m cv2\u001b[38;5;241m.\u001b[39mimwrite(\u001b[38;5;124m\"\u001b[39m\u001b[38;5;124mBandW_CancerImg.jpg\u001b[39m\u001b[38;5;124m\"\u001b[39m,grayImage)\n\u001b[0;32m---> 14\u001b[0m \u001b[38;5;28mmax\u001b[39m(\u001b[43mmgrayImage\u001b[49m)\n",
      "\u001b[0;31mNameError\u001b[0m: name 'mgrayImage' is not defined"
     ]
    }
   ],
   "source": [
    "import cv2\n",
    "  \n",
    "originalImage = cv2.imread('cancerNightSky.jpg')\n",
    "grayImage = cv2.cvtColor(originalImage, cv2.COLOR_BGR2GRAY)\n",
    "grayImage = cv2.resize(grayImage,(997,997))\n",
    "\n",
    "cv2.startWindowThread()\n",
    "# cv2.imshow('Original image',originalImage)\n",
    "cv2.imshow('Gray image', grayImage)\n",
    "cv2.waitKey(3000)\n",
    "cv2.destroyAllWindows()\n",
    "cv2.imwrite(\"BandW_CancerImg.jpg\",grayImage)\n",
    "\n",
    "max(grayImage)"
   ]
  },
  {
   "cell_type": "code",
   "execution_count": null,
   "id": "6cefec38-004f-4be6-b404-bfbe90f86466",
   "metadata": {},
   "outputs": [],
   "source": []
  }
 ],
 "metadata": {
  "kernelspec": {
   "display_name": "Python 3 (ipykernel)",
   "language": "python",
   "name": "python3"
  },
  "language_info": {
   "codemirror_mode": {
    "name": "ipython",
    "version": 3
   },
   "file_extension": ".py",
   "mimetype": "text/x-python",
   "name": "python",
   "nbconvert_exporter": "python",
   "pygments_lexer": "ipython3",
   "version": "3.10.10"
  }
 },
 "nbformat": 4,
 "nbformat_minor": 5
}
