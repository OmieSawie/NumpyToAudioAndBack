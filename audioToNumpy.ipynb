{
 "cells": [
  {
   "cell_type": "code",
   "execution_count": 1,
   "id": "35d151ac-d685-44f0-b56e-ff55ec044f66",
   "metadata": {
    "tags": []
   },
   "outputs": [],
   "source": [
    "import wave\n",
    "import numpy as np\n",
    "from scipy.io.wavfile import read\n",
    "\n",
    "from PIL import Image\n",
    "import cv2"
   ]
  },
  {
   "cell_type": "code",
   "execution_count": 2,
   "id": "ab9655ac-ac56-43d3-bad8-f268aa474f8d",
   "metadata": {
    "tags": []
   },
   "outputs": [],
   "source": [
    "RATE = 44100\n",
    "EXTEND = 1\n",
    "SCALE = 255"
   ]
  },
  {
   "cell_type": "code",
   "execution_count": 3,
   "id": "b30d46a0-7fa7-46ad-af36-9ddc18896cf6",
   "metadata": {
    "tags": []
   },
   "outputs": [],
   "source": [
    "ifile = read(\"test.wav\")\n",
    "\n",
    "audio = np.array(ifile[1])"
   ]
  },
  {
   "cell_type": "code",
   "execution_count": 4,
   "id": "0322ccc1-0b30-4515-86ee-6959a38a8cb7",
   "metadata": {
    "tags": []
   },
   "outputs": [
    {
     "data": {
      "text/plain": [
       "255.0"
      ]
     },
     "execution_count": 4,
     "metadata": {},
     "output_type": "execute_result"
    }
   ],
   "source": [
    "unscale = np.float32(audio*SCALE)\n",
    "unscale[172165]"
   ]
  },
  {
   "cell_type": "code",
   "execution_count": 5,
   "id": "98b75ac0-39c1-4064-8bef-920ec3fc6fc1",
   "metadata": {
    "tags": []
   },
   "outputs": [
    {
     "name": "stdout",
     "output_type": "stream",
     "text": [
      "[[16 16 16 ... 16 16 16]\n",
      " [16 16 16 ... 16 16 16]\n",
      " [16 16 16 ... 16 16 16]\n",
      " ...\n",
      " [16 16 16 ... 16 16 16]\n",
      " [16 16 16 ... 16 16 16]\n",
      " [16 16 16 ... 16 16 16]]\n"
     ]
    },
    {
     "data": {
      "text/plain": [
       "(997, 997)"
      ]
     },
     "execution_count": 5,
     "metadata": {},
     "output_type": "execute_result"
    }
   ],
   "source": [
    "npFinalOutput = np.zeros([997,997])\n",
    "            \n",
    "k=0\n",
    "for i in range(997):\n",
    "    for j in range(997):\n",
    "        npFinalOutput[i][j] = np.uint8(unscale[k])\n",
    "        k = k+EXTEND;\n",
    "\n",
    "\n",
    "npFinalOutput = np.uint8(npFinalOutput)\n",
    "print(npFinalOutput)\n",
    "npFinalOutput.shape"
   ]
  },
  {
   "cell_type": "code",
   "execution_count": 6,
   "id": "7226e73c-bead-4c34-a96e-d16020d2339f",
   "metadata": {},
   "outputs": [
    {
     "data": {
      "text/plain": [
       "(997, 997)"
      ]
     },
     "execution_count": 6,
     "metadata": {},
     "output_type": "execute_result"
    }
   ],
   "source": [
    "bwImage = Image.open('BandW_CancerImg.jpg')\n",
    "# print(bwImage.format)\n",
    "# print(bwImage.size)\n",
    "# print(bwImage.mode)\n",
    "npBWImage = np.uint8(bwImage)\n",
    "npBWImage.shape"
   ]
  },
  {
   "cell_type": "code",
   "execution_count": 7,
   "id": "01cb5f4c-642d-42b2-9fa5-7578107d3493",
   "metadata": {
    "tags": []
   },
   "outputs": [
    {
     "data": {
      "text/plain": [
       "array([[16, 16, 16, ..., 16, 16, 16],\n",
       "       [16, 16, 16, ..., 16, 16, 16],\n",
       "       [16, 16, 16, ..., 16, 16, 16],\n",
       "       ...,\n",
       "       [16, 16, 16, ..., 16, 16, 16],\n",
       "       [16, 16, 16, ..., 16, 16, 16],\n",
       "       [16, 16, 16, ..., 16, 16, 16]], dtype=uint8)"
      ]
     },
     "execution_count": 7,
     "metadata": {},
     "output_type": "execute_result"
    }
   ],
   "source": [
    "npTestArr = np.uint8(npBWImage)\n",
    "npTestArr"
   ]
  },
  {
   "cell_type": "code",
   "execution_count": 8,
   "id": "f8c2e68e-b8f5-4af3-87f2-9b76d9a9f9a5",
   "metadata": {
    "tags": []
   },
   "outputs": [
    {
     "data": {
      "text/plain": [
       "array([[16, 16, 16, ..., 16, 16, 16],\n",
       "       [16, 16, 16, ..., 16, 16, 16],\n",
       "       [16, 16, 16, ..., 16, 16, 16],\n",
       "       ...,\n",
       "       [16, 16, 16, ..., 16, 16, 16],\n",
       "       [16, 16, 16, ..., 16, 16, 16],\n",
       "       [16, 16, 16, ..., 16, 16, 16]], dtype=uint8)"
      ]
     },
     "execution_count": 8,
     "metadata": {},
     "output_type": "execute_result"
    }
   ],
   "source": [
    "npFinalOutput"
   ]
  },
  {
   "cell_type": "code",
   "execution_count": 9,
   "id": "b8dcb593-f8f3-4699-958f-f31f5dfaabfb",
   "metadata": {
    "tags": []
   },
   "outputs": [],
   "source": [
    "for i in range(997):\n",
    "    for j in range(997):\n",
    "        if npFinalOutput[i][j] != npTestArr[i][j] :\n",
    "            print(npFinalOutput[i][j],npTestArr[i][j])"
   ]
  },
  {
   "cell_type": "code",
   "execution_count": null,
   "id": "d1d16e7b-e166-4b36-abdf-8077b337ba53",
   "metadata": {},
   "outputs": [],
   "source": [
    "\n",
    "\n"
   ]
  },
  {
   "cell_type": "code",
   "execution_count": 10,
   "id": "7e153af7-d465-43ee-a95d-32f476a2f25d",
   "metadata": {
    "tags": []
   },
   "outputs": [
    {
     "name": "stdout",
     "output_type": "stream",
     "text": [
      "None\n",
      "(997, 997)\n",
      "L\n"
     ]
    }
   ],
   "source": [
    "bwImage = Image.fromarray(npFinalOutput)\n",
    "bwImage.save(\"finalOutputImage.jpg\")\n",
    "# summarize some details about the image\n",
    "print(bwImage.format)\n",
    "print(bwImage.size)\n",
    "print(bwImage.mode)\n"
   ]
  },
  {
   "cell_type": "code",
   "execution_count": 11,
   "id": "baf294c6-c82d-4da1-b7e3-d74796d1d911",
   "metadata": {
    "tags": []
   },
   "outputs": [],
   "source": [
    "finalOutputImage = cv2.imread('finalOutputImage.jpg')\n",
    "cv2.startWindowThread()\n",
    "cv2.namedWindow('Final Output Image')\n",
    "cv2.moveWindow('Final Output Image',50,50)\n",
    "cv2.imshow('Final Output Image',finalOutputImage)\n",
    "cv2.waitKey(5000)\n",
    "cv2.destroyAllWindows()"
   ]
  },
  {
   "cell_type": "code",
   "execution_count": null,
   "id": "f2d3a192-5b1a-4526-83dd-16af834ae2a6",
   "metadata": {},
   "outputs": [],
   "source": []
  }
 ],
 "metadata": {
  "kernelspec": {
   "display_name": "Python 3 (ipykernel)",
   "language": "python",
   "name": "python3"
  },
  "language_info": {
   "codemirror_mode": {
    "name": "ipython",
    "version": 3
   },
   "file_extension": ".py",
   "mimetype": "text/x-python",
   "name": "python",
   "nbconvert_exporter": "python",
   "pygments_lexer": "ipython3",
   "version": "3.10.10"
  }
 },
 "nbformat": 4,
 "nbformat_minor": 5
}
