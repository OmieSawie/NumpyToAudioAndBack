{
 "cells": [
  {
   "cell_type": "code",
   "execution_count": 1,
   "id": "35d151ac-d685-44f0-b56e-ff55ec044f66",
   "metadata": {
    "tags": []
   },
   "outputs": [],
   "source": [
    "import wave\n",
    "import numpy as np\n",
    "from scipy.io.wavfile import read"
   ]
  },
  {
   "cell_type": "code",
   "execution_count": 2,
   "id": "ab9655ac-ac56-43d3-bad8-f268aa474f8d",
   "metadata": {
    "tags": []
   },
   "outputs": [],
   "source": [
    "RATE = 44100\n",
    "EXTEND = 441\n",
    "SCALE = 12"
   ]
  },
  {
   "cell_type": "code",
   "execution_count": 3,
   "id": "b30d46a0-7fa7-46ad-af36-9ddc18896cf6",
   "metadata": {
    "tags": []
   },
   "outputs": [],
   "source": [
    "# Read file to get buffer                                                                                               \n",
    "ifile = read(\"test.wav\")\n",
    "#samples = ifile.getnframes()\n",
    "audio = np.array(ifile[1])\n"
   ]
  },
  {
   "cell_type": "code",
   "execution_count": 4,
   "id": "0322ccc1-0b30-4515-86ee-6959a38a8cb7",
   "metadata": {
    "tags": []
   },
   "outputs": [
    {
     "data": {
      "text/plain": [
       "0.4"
      ]
     },
     "execution_count": 4,
     "metadata": {},
     "output_type": "execute_result"
    }
   ],
   "source": [
    "unscale = np.round(audio*SCALE,2)\n",
    "unscale[0]"
   ]
  },
  {
   "cell_type": "code",
   "execution_count": 5,
   "id": "98b75ac0-39c1-4064-8bef-920ec3fc6fc1",
   "metadata": {
    "tags": []
   },
   "outputs": [
    {
     "name": "stdout",
     "output_type": "stream",
     "text": [
      "[[0.4 0.1 0.3 ... 0.5 0.4 0.2]\n",
      " [0.5 0.1 0.4 ... 0.3 0.3 0.1]\n",
      " [0.2 0.4 0.5 ... 0.5 0.4 0.3]\n",
      " ...\n",
      " [0.2 0.2 0.4 ... 0.3 0.3 0.3]\n",
      " [0.5 0.2 0.1 ... 0.2 0.2 0.3]\n",
      " [0.3 0.1 0.5 ... 0.5 0.1 0.2]]\n"
     ]
    },
    {
     "data": {
      "text/plain": [
       "(59, 29)"
      ]
     },
     "execution_count": 5,
     "metadata": {},
     "output_type": "execute_result"
    }
   ],
   "source": [
    "npFinalOutput = np.zeros([59,29])\n",
    "            \n",
    "k=0\n",
    "for i in range(59):\n",
    "    for j in range(29):\n",
    "        npFinalOutput[i][j] = np.float32(unscale[k])\n",
    "        k = k+EXTEND;\n",
    "\n",
    "\n",
    "npFinalOutput = np.float32(npFinalOutput)\n",
    "print(npFinalOutput)\n",
    "npFinalOutput.shape"
   ]
  },
  {
   "cell_type": "code",
   "execution_count": 6,
   "id": "20fa645e-9e96-409b-91d1-36a63838abf3",
   "metadata": {
    "tags": []
   },
   "outputs": [],
   "source": [
    "npTestArr = np.genfromtxt(\"./Naks_Tree.csv\", delimiter=',') \n",
    "npTestArr = np.delete(npTestArr,0,0)"
   ]
  },
  {
   "cell_type": "code",
   "execution_count": 7,
   "id": "01cb5f4c-642d-42b2-9fa5-7578107d3493",
   "metadata": {
    "tags": []
   },
   "outputs": [
    {
     "data": {
      "text/plain": [
       "array([[0.4, 0.1, 0.3, ..., 0.5, 0.4, 0.2],\n",
       "       [0.5, 0.1, 0.4, ..., 0.3, 0.3, 0.1],\n",
       "       [0.2, 0.4, 0.5, ..., 0.5, 0.4, 0.3],\n",
       "       ...,\n",
       "       [0.2, 0.2, 0.4, ..., 0.3, 0.3, 0.3],\n",
       "       [0.5, 0.2, 0.1, ..., 0.2, 0.2, 0.3],\n",
       "       [0.3, 0.1, 0.5, ..., 0.5, 0.1, 0.2]], dtype=float32)"
      ]
     },
     "execution_count": 7,
     "metadata": {},
     "output_type": "execute_result"
    }
   ],
   "source": [
    "npTestArr = np.float32(npTestArr)\n",
    "npTestArr"
   ]
  },
  {
   "cell_type": "code",
   "execution_count": 8,
   "id": "f8c2e68e-b8f5-4af3-87f2-9b76d9a9f9a5",
   "metadata": {
    "tags": []
   },
   "outputs": [
    {
     "data": {
      "text/plain": [
       "array([[0.4, 0.1, 0.3, ..., 0.5, 0.4, 0.2],\n",
       "       [0.5, 0.1, 0.4, ..., 0.3, 0.3, 0.1],\n",
       "       [0.2, 0.4, 0.5, ..., 0.5, 0.4, 0.3],\n",
       "       ...,\n",
       "       [0.2, 0.2, 0.4, ..., 0.3, 0.3, 0.3],\n",
       "       [0.5, 0.2, 0.1, ..., 0.2, 0.2, 0.3],\n",
       "       [0.3, 0.1, 0.5, ..., 0.5, 0.1, 0.2]], dtype=float32)"
      ]
     },
     "execution_count": 8,
     "metadata": {},
     "output_type": "execute_result"
    }
   ],
   "source": [
    "npFinalOutput"
   ]
  },
  {
   "cell_type": "code",
   "execution_count": 9,
   "id": "b8dcb593-f8f3-4699-958f-f31f5dfaabfb",
   "metadata": {
    "tags": []
   },
   "outputs": [],
   "source": [
    "for i in range(59):\n",
    "    for j in range(29):\n",
    "        if npFinalOutput[i][j] != npTestArr[i][j] :\n",
    "            print(i,j)"
   ]
  },
  {
   "cell_type": "code",
   "execution_count": null,
   "id": "d1d16e7b-e166-4b36-abdf-8077b337ba53",
   "metadata": {},
   "outputs": [],
   "source": []
  }
 ],
 "metadata": {
  "kernelspec": {
   "display_name": "Python 3 (ipykernel)",
   "language": "python",
   "name": "python3"
  },
  "language_info": {
   "codemirror_mode": {
    "name": "ipython",
    "version": 3
   },
   "file_extension": ".py",
   "mimetype": "text/x-python",
   "name": "python",
   "nbconvert_exporter": "python",
   "pygments_lexer": "ipython3",
   "version": "3.10.10"
  }
 },
 "nbformat": 4,
 "nbformat_minor": 5
}
